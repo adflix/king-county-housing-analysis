{
 "cells": [
  {
   "cell_type": "markdown",
   "metadata": {},
   "source": [
    "## 1. Einleitung / Ziel des Projekts 🏠\n",
    "\n",
    "In diesem Projekt untersuchen wir die Verkaufspreise von Häusern im Raum Seattle (King County, USA).  \n",
    "Wir wollen die wichtigsten Preisfaktoren identifizieren, wie z. B.:\n",
    "- **Wohnfläche, Zimmeranzahl, Baujahr, Zustand**\n",
    "- **Einfluss der Lage (Wasserlage, Postleitzahl)**\n",
    "- **Zusammenhänge zwischen Preis und Wohnqualität**\n",
    "\n",
    "Ziel ist es, **Auffälligkeiten und Muster** im Immobilienmarkt zu erkennen.\n"
   ]
  },
  {
   "cell_type": "markdown",
   "metadata": {},
   "source": [
    "## 2. Daten laden und Überblick 🧐\n",
    "\n",
    "Wir starten mit dem Laden der Daten und einem ersten Überblick:\n",
    "- **Wie viele Zeilen und Spalten gibt es?**\n",
    "- **Welche Spalten sind enthalten?**\n",
    "- **Gibt es fehlende Werte?**\n"
   ]
  },
  {
   "cell_type": "code",
   "execution_count": 1,
   "metadata": {},
   "outputs": [
    {
     "data": {
      "text/html": [
       "<div>\n",
       "<style scoped>\n",
       "    .dataframe tbody tr th:only-of-type {\n",
       "        vertical-align: middle;\n",
       "    }\n",
       "\n",
       "    .dataframe tbody tr th {\n",
       "        vertical-align: top;\n",
       "    }\n",
       "\n",
       "    .dataframe thead th {\n",
       "        text-align: right;\n",
       "    }\n",
       "</style>\n",
       "<table border=\"1\" class=\"dataframe\">\n",
       "  <thead>\n",
       "    <tr style=\"text-align: right;\">\n",
       "      <th></th>\n",
       "      <th>id</th>\n",
       "      <th>date</th>\n",
       "      <th>price</th>\n",
       "      <th>bedrooms</th>\n",
       "      <th>bathrooms</th>\n",
       "      <th>sqft_living</th>\n",
       "      <th>sqft_lot</th>\n",
       "      <th>floors</th>\n",
       "      <th>waterfront</th>\n",
       "      <th>view</th>\n",
       "      <th>...</th>\n",
       "      <th>grade</th>\n",
       "      <th>sqft_above</th>\n",
       "      <th>sqft_basement</th>\n",
       "      <th>yr_built</th>\n",
       "      <th>yr_renovated</th>\n",
       "      <th>zipcode</th>\n",
       "      <th>lat</th>\n",
       "      <th>long</th>\n",
       "      <th>sqft_living15</th>\n",
       "      <th>sqft_lot15</th>\n",
       "    </tr>\n",
       "  </thead>\n",
       "  <tbody>\n",
       "    <tr>\n",
       "      <th>0</th>\n",
       "      <td>7129300520</td>\n",
       "      <td>20141013T000000</td>\n",
       "      <td>221900.0</td>\n",
       "      <td>3</td>\n",
       "      <td>1.00</td>\n",
       "      <td>1180</td>\n",
       "      <td>5650</td>\n",
       "      <td>1.0</td>\n",
       "      <td>0</td>\n",
       "      <td>0</td>\n",
       "      <td>...</td>\n",
       "      <td>7</td>\n",
       "      <td>1180</td>\n",
       "      <td>0</td>\n",
       "      <td>1955</td>\n",
       "      <td>0</td>\n",
       "      <td>98178</td>\n",
       "      <td>47.5112</td>\n",
       "      <td>-122.257</td>\n",
       "      <td>1340</td>\n",
       "      <td>5650</td>\n",
       "    </tr>\n",
       "    <tr>\n",
       "      <th>1</th>\n",
       "      <td>6414100192</td>\n",
       "      <td>20141209T000000</td>\n",
       "      <td>538000.0</td>\n",
       "      <td>3</td>\n",
       "      <td>2.25</td>\n",
       "      <td>2570</td>\n",
       "      <td>7242</td>\n",
       "      <td>2.0</td>\n",
       "      <td>0</td>\n",
       "      <td>0</td>\n",
       "      <td>...</td>\n",
       "      <td>7</td>\n",
       "      <td>2170</td>\n",
       "      <td>400</td>\n",
       "      <td>1951</td>\n",
       "      <td>1991</td>\n",
       "      <td>98125</td>\n",
       "      <td>47.7210</td>\n",
       "      <td>-122.319</td>\n",
       "      <td>1690</td>\n",
       "      <td>7639</td>\n",
       "    </tr>\n",
       "    <tr>\n",
       "      <th>2</th>\n",
       "      <td>5631500400</td>\n",
       "      <td>20150225T000000</td>\n",
       "      <td>180000.0</td>\n",
       "      <td>2</td>\n",
       "      <td>1.00</td>\n",
       "      <td>770</td>\n",
       "      <td>10000</td>\n",
       "      <td>1.0</td>\n",
       "      <td>0</td>\n",
       "      <td>0</td>\n",
       "      <td>...</td>\n",
       "      <td>6</td>\n",
       "      <td>770</td>\n",
       "      <td>0</td>\n",
       "      <td>1933</td>\n",
       "      <td>0</td>\n",
       "      <td>98028</td>\n",
       "      <td>47.7379</td>\n",
       "      <td>-122.233</td>\n",
       "      <td>2720</td>\n",
       "      <td>8062</td>\n",
       "    </tr>\n",
       "    <tr>\n",
       "      <th>3</th>\n",
       "      <td>2487200875</td>\n",
       "      <td>20141209T000000</td>\n",
       "      <td>604000.0</td>\n",
       "      <td>4</td>\n",
       "      <td>3.00</td>\n",
       "      <td>1960</td>\n",
       "      <td>5000</td>\n",
       "      <td>1.0</td>\n",
       "      <td>0</td>\n",
       "      <td>0</td>\n",
       "      <td>...</td>\n",
       "      <td>7</td>\n",
       "      <td>1050</td>\n",
       "      <td>910</td>\n",
       "      <td>1965</td>\n",
       "      <td>0</td>\n",
       "      <td>98136</td>\n",
       "      <td>47.5208</td>\n",
       "      <td>-122.393</td>\n",
       "      <td>1360</td>\n",
       "      <td>5000</td>\n",
       "    </tr>\n",
       "    <tr>\n",
       "      <th>4</th>\n",
       "      <td>1954400510</td>\n",
       "      <td>20150218T000000</td>\n",
       "      <td>510000.0</td>\n",
       "      <td>3</td>\n",
       "      <td>2.00</td>\n",
       "      <td>1680</td>\n",
       "      <td>8080</td>\n",
       "      <td>1.0</td>\n",
       "      <td>0</td>\n",
       "      <td>0</td>\n",
       "      <td>...</td>\n",
       "      <td>8</td>\n",
       "      <td>1680</td>\n",
       "      <td>0</td>\n",
       "      <td>1987</td>\n",
       "      <td>0</td>\n",
       "      <td>98074</td>\n",
       "      <td>47.6168</td>\n",
       "      <td>-122.045</td>\n",
       "      <td>1800</td>\n",
       "      <td>7503</td>\n",
       "    </tr>\n",
       "  </tbody>\n",
       "</table>\n",
       "<p>5 rows × 21 columns</p>\n",
       "</div>"
      ],
      "text/plain": [
       "           id             date     price  bedrooms  bathrooms  sqft_living  \\\n",
       "0  7129300520  20141013T000000  221900.0         3       1.00         1180   \n",
       "1  6414100192  20141209T000000  538000.0         3       2.25         2570   \n",
       "2  5631500400  20150225T000000  180000.0         2       1.00          770   \n",
       "3  2487200875  20141209T000000  604000.0         4       3.00         1960   \n",
       "4  1954400510  20150218T000000  510000.0         3       2.00         1680   \n",
       "\n",
       "   sqft_lot  floors  waterfront  view  ...  grade  sqft_above  sqft_basement  \\\n",
       "0      5650     1.0           0     0  ...      7        1180              0   \n",
       "1      7242     2.0           0     0  ...      7        2170            400   \n",
       "2     10000     1.0           0     0  ...      6         770              0   \n",
       "3      5000     1.0           0     0  ...      7        1050            910   \n",
       "4      8080     1.0           0     0  ...      8        1680              0   \n",
       "\n",
       "   yr_built  yr_renovated  zipcode      lat     long  sqft_living15  \\\n",
       "0      1955             0    98178  47.5112 -122.257           1340   \n",
       "1      1951          1991    98125  47.7210 -122.319           1690   \n",
       "2      1933             0    98028  47.7379 -122.233           2720   \n",
       "3      1965             0    98136  47.5208 -122.393           1360   \n",
       "4      1987             0    98074  47.6168 -122.045           1800   \n",
       "\n",
       "   sqft_lot15  \n",
       "0        5650  \n",
       "1        7639  \n",
       "2        8062  \n",
       "3        5000  \n",
       "4        7503  \n",
       "\n",
       "[5 rows x 21 columns]"
      ]
     },
     "execution_count": 1,
     "metadata": {},
     "output_type": "execute_result"
    }
   ],
   "source": [
    "# Bibliotheken importieren\n",
    "import pandas as pd\n",
    "\n",
    "# Daten laden\n",
    "df = pd.read_csv(\"../data/kc_house_data.csv\")\n",
    "\n",
    "# Ersten Blick auf die Daten werfen\n",
    "df.head()\n"
   ]
  },
  {
   "cell_type": "markdown",
   "metadata": {},
   "source": [
    "## 3. Erste Datenprüfung 🧪\n",
    "\n",
    "Ziel:\n",
    "- **Größe des Datensatzes ermitteln**\n",
    "- **Spaltennamen und Datentypen prüfen**\n",
    "- **Fehlende Werte identifizieren**\n"
   ]
  },
  {
   "cell_type": "code",
   "execution_count": 2,
   "metadata": {},
   "outputs": [
    {
     "name": "stdout",
     "output_type": "stream",
     "text": [
      "<class 'pandas.core.frame.DataFrame'>\n",
      "RangeIndex: 21613 entries, 0 to 21612\n",
      "Data columns (total 21 columns):\n",
      " #   Column         Non-Null Count  Dtype  \n",
      "---  ------         --------------  -----  \n",
      " 0   id             21613 non-null  int64  \n",
      " 1   date           21613 non-null  object \n",
      " 2   price          21613 non-null  float64\n",
      " 3   bedrooms       21613 non-null  int64  \n",
      " 4   bathrooms      21613 non-null  float64\n",
      " 5   sqft_living    21613 non-null  int64  \n",
      " 6   sqft_lot       21613 non-null  int64  \n",
      " 7   floors         21613 non-null  float64\n",
      " 8   waterfront     21613 non-null  int64  \n",
      " 9   view           21613 non-null  int64  \n",
      " 10  condition      21613 non-null  int64  \n",
      " 11  grade          21613 non-null  int64  \n",
      " 12  sqft_above     21613 non-null  int64  \n",
      " 13  sqft_basement  21613 non-null  int64  \n",
      " 14  yr_built       21613 non-null  int64  \n",
      " 15  yr_renovated   21613 non-null  int64  \n",
      " 16  zipcode        21613 non-null  int64  \n",
      " 17  lat            21613 non-null  float64\n",
      " 18  long           21613 non-null  float64\n",
      " 19  sqft_living15  21613 non-null  int64  \n",
      " 20  sqft_lot15     21613 non-null  int64  \n",
      "dtypes: float64(5), int64(15), object(1)\n",
      "memory usage: 3.5+ MB\n"
     ]
    },
    {
     "data": {
      "text/plain": [
       "id               0\n",
       "date             0\n",
       "price            0\n",
       "bedrooms         0\n",
       "bathrooms        0\n",
       "sqft_living      0\n",
       "sqft_lot         0\n",
       "floors           0\n",
       "waterfront       0\n",
       "view             0\n",
       "condition        0\n",
       "grade            0\n",
       "sqft_above       0\n",
       "sqft_basement    0\n",
       "yr_built         0\n",
       "yr_renovated     0\n",
       "zipcode          0\n",
       "lat              0\n",
       "long             0\n",
       "sqft_living15    0\n",
       "sqft_lot15       0\n",
       "dtype: int64"
      ]
     },
     "execution_count": 2,
     "metadata": {},
     "output_type": "execute_result"
    }
   ],
   "source": [
    "# Größe des Datensatzes\n",
    "df.shape\n",
    "\n",
    "# Spaltennamen anzeigen\n",
    "df.columns\n",
    "\n",
    "# Datentypen und Speicherverbrauch prüfen\n",
    "df.info()\n",
    "\n",
    "# Fehlende Werte prüfen\n",
    "df.isnull().sum()\n"
   ]
  },
  {
   "cell_type": "markdown",
   "metadata": {},
   "source": [
    "## 4. Daten bereinigen 🧹\n",
    "\n",
    "Die Daten sind insgesamt **sauber** – keine fehlenden Werte.  \n",
    "Einzig die `date`-Spalte liegt noch als `object` (Text) vor und wird jetzt in ein echtes **Datumsformat (datetime)** umgewandelt.\n"
   ]
  },
  {
   "cell_type": "code",
   "execution_count": 3,
   "metadata": {},
   "outputs": [
    {
     "name": "stdout",
     "output_type": "stream",
     "text": [
      "<class 'pandas.core.frame.DataFrame'>\n",
      "RangeIndex: 21613 entries, 0 to 21612\n",
      "Data columns (total 21 columns):\n",
      " #   Column         Non-Null Count  Dtype         \n",
      "---  ------         --------------  -----         \n",
      " 0   id             21613 non-null  int64         \n",
      " 1   date           21613 non-null  datetime64[ns]\n",
      " 2   price          21613 non-null  float64       \n",
      " 3   bedrooms       21613 non-null  int64         \n",
      " 4   bathrooms      21613 non-null  float64       \n",
      " 5   sqft_living    21613 non-null  int64         \n",
      " 6   sqft_lot       21613 non-null  int64         \n",
      " 7   floors         21613 non-null  float64       \n",
      " 8   waterfront     21613 non-null  int64         \n",
      " 9   view           21613 non-null  int64         \n",
      " 10  condition      21613 non-null  int64         \n",
      " 11  grade          21613 non-null  int64         \n",
      " 12  sqft_above     21613 non-null  int64         \n",
      " 13  sqft_basement  21613 non-null  int64         \n",
      " 14  yr_built       21613 non-null  int64         \n",
      " 15  yr_renovated   21613 non-null  int64         \n",
      " 16  zipcode        21613 non-null  int64         \n",
      " 17  lat            21613 non-null  float64       \n",
      " 18  long           21613 non-null  float64       \n",
      " 19  sqft_living15  21613 non-null  int64         \n",
      " 20  sqft_lot15     21613 non-null  int64         \n",
      "dtypes: datetime64[ns](1), float64(5), int64(15)\n",
      "memory usage: 3.5 MB\n"
     ]
    }
   ],
   "source": [
    "# Datumsspalte umwandeln\n",
    "df['date'] = pd.to_datetime(df['date'])\n",
    "\n",
    "# Prüfen, ob es geklappt hat\n",
    "df.info()\n"
   ]
  },
  {
   "cell_type": "markdown",
   "metadata": {},
   "source": [
    "## Schritt 5: Explorative Datenanalyse (EDA)\n",
    "\n",
    "Jetzt gehen wir die ersten spannenden Fragen an:\n",
    "\n",
    "- ** Wie verteilen sich die Immobilienpreise? **\n",
    "- ** Gibt es viele günstige oder eher teure Häuser? **\n",
    "- ** Wie verteilen sich die Wohnflächen? **\n",
    "- ** Sind die meisten Häuser klein oder groß? **\n",
    "- ** Hat Wasserlage (waterfront) Einfluss auf den Preis? **\n",
    "- ** Sind Häuser am Wasser teurer? **\n",
    "- ** Welche Postleitzahlen haben die höchsten Preise? **\t\n",
    "- ** Gibt es teure Gegenden / Hotspots? **\n",
    "- ** Wie entwickeln sich Preise über die Zeit? **\t\n",
    "- ** Steigen die Preise, oder gibt es Schwankungen? **"
   ]
  },
  {
   "cell_type": "markdown",
   "metadata": {},
   "source": [
    "## 5.1 Verteilung der Immobilienpreise 💰📊\n",
    "\n",
    "Wie verteilen sich die Hauspreise?  \n",
    "Gibt es viele günstige Immobilien oder ziehen einige Luxusobjekte den Schnitt hoch?\n"
   ]
  },
  {
   "cell_type": "code",
   "execution_count": 8,
   "metadata": {},
   "outputs": [],
   "source": [
    "plt.figure(figsize=(10, 5))\n",
    "sns.histplot(df['price'], bins=50, kde=True)\n",
    "\n",
    "plt.title(\"Verteilung der Immobilienpreise\")\n",
    "plt.xlabel(\"Preis (€)\")\n",
    "plt.ylabel(\"Anzahl der Immobilien\")\n",
    "\n",
    "# Speichern\n",
    "plt.savefig(\"../visuals/preisverteilung.png\")\n",
    "plt.close()  # Schließt das Plot-Fenster (damit es nicht doppelt angezeigt wird)\n"
   ]
  },
  {
   "cell_type": "markdown",
   "metadata": {},
   "source": [
    "## 5.1 Verteilung der Immobilienpreise – Kennzahlen 🧮\n",
    "\n",
    "Neben der Visualisierung werfen wir einen Blick auf die wichtigsten Kennzahlen:\n",
    "- **Minimum, Maximum, Median**\n",
    "- **Mittelwert, Standardabweichung**\n",
    "- **Quartile**\n"
   ]
  },
  {
   "cell_type": "code",
   "execution_count": 12,
   "metadata": {},
   "outputs": [
    {
     "data": {
      "text/plain": [
       "count    2.161300e+04\n",
       "mean     5.400881e+05\n",
       "std      3.671272e+05\n",
       "min      7.500000e+04\n",
       "25%      3.219500e+05\n",
       "50%      4.500000e+05\n",
       "75%      6.450000e+05\n",
       "max      7.700000e+06\n",
       "Name: price, dtype: float64"
      ]
     },
     "execution_count": 12,
     "metadata": {},
     "output_type": "execute_result"
    }
   ],
   "source": [
    "# Statistische Kennzahlen für Preis\n",
    "preis_statistik = df['price'].describe()\n",
    "preis_statistik\n"
   ]
  },
  {
   "cell_type": "markdown",
   "metadata": {},
   "source": [
    "## 5.2 Wohnfläche (sqft_living) – Verteilung 🏠📏\n",
    "\n",
    "Wie groß sind die meisten Häuser?  \n",
    "Gibt es viele kleine Häuser oder überwiegen große Immobilien?\n"
   ]
  },
  {
   "cell_type": "code",
   "execution_count": 9,
   "metadata": {},
   "outputs": [],
   "source": [
    "plt.figure(figsize=(10, 5))\n",
    "sns.histplot(df['sqft_living'], bins=50, kde=True)\n",
    "\n",
    "plt.title(\"Verteilung der Wohnfläche\")\n",
    "plt.xlabel(\"Wohnfläche (sqft)\")\n",
    "plt.ylabel(\"Anzahl der Immobilien\")\n",
    "\n",
    "# Speichern\n",
    "plt.savefig(\"../visuals/wohnflaeche_verteilung.png\")\n",
    "plt.close()\n"
   ]
  },
  {
   "cell_type": "markdown",
   "metadata": {},
   "source": [
    "## 5.2 Wohnfläche (sqft_living) – Kennzahlen 🏠📏\n",
    "\n",
    "Wie verteilen sich die Wohnflächen in Zahlen?\n"
   ]
  },
  {
   "cell_type": "code",
   "execution_count": 13,
   "metadata": {},
   "outputs": [
    {
     "data": {
      "text/plain": [
       "count    21613.000000\n",
       "mean      2079.899736\n",
       "std        918.440897\n",
       "min        290.000000\n",
       "25%       1427.000000\n",
       "50%       1910.000000\n",
       "75%       2550.000000\n",
       "max      13540.000000\n",
       "Name: sqft_living, dtype: float64"
      ]
     },
     "execution_count": 13,
     "metadata": {},
     "output_type": "execute_result"
    }
   ],
   "source": [
    "# Statistische Kennzahlen für Wohnfläche\n",
    "wohnflaeche_statistik = df['sqft_living'].describe()\n",
    "wohnflaeche_statistik\n"
   ]
  },
  {
   "cell_type": "markdown",
   "metadata": {},
   "source": [
    "## 5.3 Wasserlage (waterfront) vs. Preis 🌊💰\n",
    "\n",
    "Beeinflusst die Nähe zum Wasser den Immobilienpreis?  \n",
    "Häuser mit Wasserlage (`waterfront = 1`) könnten teurer sein als Häuser ohne (`waterfront = 0`).\n"
   ]
  },
  {
   "cell_type": "code",
   "execution_count": 10,
   "metadata": {},
   "outputs": [
    {
     "data": {
      "text/plain": [
       "waterfront\n",
       "0    5.315636e+05\n",
       "1    1.661876e+06\n",
       "Name: price, dtype: float64"
      ]
     },
     "execution_count": 10,
     "metadata": {},
     "output_type": "execute_result"
    }
   ],
   "source": [
    "# Durchschnittspreis mit und ohne Wasserlage\n",
    "waterfront_prices = df.groupby('waterfront')['price'].mean()\n",
    "\n",
    "# Ausgabe der Durchschnittspreise\n",
    "waterfront_prices\n"
   ]
  },
  {
   "cell_type": "code",
   "execution_count": 11,
   "metadata": {},
   "outputs": [
    {
     "name": "stderr",
     "output_type": "stream",
     "text": [
      "/var/folders/yy/b7kbx5nj53l4y_x6xkz84z2r0000gn/T/ipykernel_43176/1674665245.py:2: FutureWarning: \n",
      "\n",
      "Passing `palette` without assigning `hue` is deprecated and will be removed in v0.14.0. Assign the `x` variable to `hue` and set `legend=False` for the same effect.\n",
      "\n",
      "  sns.barplot(x=waterfront_prices.index, y=waterfront_prices.values, palette='Blues')\n"
     ]
    }
   ],
   "source": [
    "plt.figure(figsize=(6, 4))\n",
    "sns.barplot(x=waterfront_prices.index, y=waterfront_prices.values, palette='Blues')\n",
    "\n",
    "plt.title(\"Durchschnittlicher Preis: Wasserlage vs. keine Wasserlage\")\n",
    "plt.xlabel(\"Wasserlage (0 = Nein, 1 = Ja)\")\n",
    "plt.ylabel(\"Durchschnittlicher Preis (€)\")\n",
    "\n",
    "# Speichern\n",
    "plt.savefig(\"../visuals/wasserlage_preisvergleich.png\")\n",
    "plt.close()\n"
   ]
  },
  {
   "cell_type": "markdown",
   "metadata": {},
   "source": [
    "## 5.3 Wasserlage – Durchschnittspreise 💧📊\n",
    "\n",
    "Wie unterscheiden sich die **durchschnittlichen Preise** zwischen Häusern mit und ohne Wasserlage?\n"
   ]
  },
  {
   "cell_type": "code",
   "execution_count": 14,
   "metadata": {},
   "outputs": [
    {
     "data": {
      "text/plain": [
       "waterfront\n",
       "0    5.315636e+05\n",
       "1    1.661876e+06\n",
       "Name: price, dtype: float64"
      ]
     },
     "execution_count": 14,
     "metadata": {},
     "output_type": "execute_result"
    }
   ],
   "source": [
    "waterfront_prices\n"
   ]
  },
  {
   "cell_type": "markdown",
   "metadata": {},
   "source": [
    "## 5.4 Zusammenfassung – Kennzahlen für Preis, Wohnfläche und Wasserlage 🧮\n",
    "\n",
    "Die wichtigsten statistischen Kennzahlen auf einen Blick:\n",
    "- **Preis:** Minimum, Maximum, Median, Quartile, Mittelwert\n",
    "- **Wohnfläche:** Verteilung der Quadratfuß\n",
    "- **Wasserlage:** Durchschnittspreise für Häuser mit/ohne Wasserlage\n"
   ]
  },
  {
   "cell_type": "code",
   "execution_count": 15,
   "metadata": {},
   "outputs": [
    {
     "name": "stdout",
     "output_type": "stream",
     "text": [
      "📊 Immobilienpreise – Kennzahlen\n",
      "count    2.161300e+04\n",
      "mean     5.400881e+05\n",
      "std      3.671272e+05\n",
      "min      7.500000e+04\n",
      "25%      3.219500e+05\n",
      "50%      4.500000e+05\n",
      "75%      6.450000e+05\n",
      "max      7.700000e+06\n",
      "Name: price, dtype: float64\n",
      "\n",
      "\n",
      "🏠 Wohnfläche (sqft_living) – Kennzahlen\n",
      "count    21613.000000\n",
      "mean      2079.899736\n",
      "std        918.440897\n",
      "min        290.000000\n",
      "25%       1427.000000\n",
      "50%       1910.000000\n",
      "75%       2550.000000\n",
      "max      13540.000000\n",
      "Name: sqft_living, dtype: float64\n",
      "\n",
      "\n",
      "💧 Wasserlage vs. Preis – Durchschnittspreise\n",
      "waterfront\n",
      "0    5.315636e+05\n",
      "1    1.661876e+06\n",
      "Name: price, dtype: float64\n"
     ]
    }
   ],
   "source": [
    "# Preise – Verteilung\n",
    "print(\"📊 Immobilienpreise – Kennzahlen\")\n",
    "print(df['price'].describe())\n",
    "print(\"\\n\")\n",
    "\n",
    "# Wohnfläche – Verteilung\n",
    "print(\"🏠 Wohnfläche (sqft_living) – Kennzahlen\")\n",
    "print(df['sqft_living'].describe())\n",
    "print(\"\\n\")\n",
    "\n",
    "# Wasserlage – Durchschnittspreise\n",
    "print(\"💧 Wasserlage vs. Preis – Durchschnittspreise\")\n",
    "print(df.groupby('waterfront')['price'].mean())\n"
   ]
  },
  {
   "cell_type": "markdown",
   "metadata": {},
   "source": [
    "## 5.5 Interpretation der Kennzahlen 🧠\n",
    "\n",
    "### 1️⃣ Immobilienpreise:\n",
    "- **Typischer Preis: ~450.000 €** (Median), **Durchschnitt: ~540.000 €**.\n",
    "- **Luxusimmobilien (bis 7,7 Mio €) ziehen den Durchschnitt hoch.**\n",
    "- **50% der Häuser kosten zwischen 322.000 € und 645.000 €.**\n",
    "\n",
    "### 2️⃣ Wohnfläche:\n",
    "- **Typische Wohnfläche: ~178 m²** (Median), **Durchschnitt: ~193 m²**.\n",
    "- **Hohe Streuung → Tiny-Häuser (~27 m²) bis Villen (1.250 m²).**\n",
    "- **50% der Häuser liegen zwischen ~132 m² und 237 m².**\n",
    "\n",
    "### 3️⃣ Wasserlage:\n",
    "- **Ohne Wasserlage: ~531.000 €** im Durchschnitt.\n",
    "- **Mit Wasserlage: ~1,66 Mio €** → **Wasserlage verdreifacht den Preis!**\n"
   ]
  },
  {
   "cell_type": "markdown",
   "metadata": {},
   "source": [
    "## 5.6 Teure Gegenden – Postleitzahlen 🏘️📍\n",
    "\n",
    "Wie unterscheiden sich die Preise zwischen den Postleitzahlen?  \n",
    "Wir wollen wissen:\n",
    "- **Welche PLZ haben die höchsten Durchschnittspreise?**\n",
    "- **Gibt es bestimmte \"Hotspots\" mit besonders teuren Immobilien?**\n"
   ]
  },
  {
   "cell_type": "code",
   "execution_count": 16,
   "metadata": {},
   "outputs": [
    {
     "data": {
      "text/plain": [
       "zipcode\n",
       "98039    2.160607e+06\n",
       "98004    1.355927e+06\n",
       "98040    1.194230e+06\n",
       "98112    1.095499e+06\n",
       "98102    9.012583e+05\n",
       "98109    8.796236e+05\n",
       "98105    8.628252e+05\n",
       "98006    8.596848e+05\n",
       "98119    8.494480e+05\n",
       "98005    8.101649e+05\n",
       "Name: price, dtype: float64"
      ]
     },
     "execution_count": 16,
     "metadata": {},
     "output_type": "execute_result"
    }
   ],
   "source": [
    "# Durchschnittspreis pro Postleitzahl berechnen\n",
    "plz_prices = df.groupby('zipcode')['price'].mean().sort_values(ascending=False).head(10)\n",
    "\n",
    "# Ausgabe der Top 10 PLZ\n",
    "plz_prices\n"
   ]
  },
  {
   "cell_type": "code",
   "execution_count": 17,
   "metadata": {},
   "outputs": [],
   "source": [
    "import matplotlib.pyplot as plt\n",
    "\n",
    "plt.figure(figsize=(10, 5))\n",
    "plz_prices.plot(kind='bar', color='purple')\n",
    "\n",
    "plt.title(\"Top 10 Postleitzahlen nach Durchschnittspreis\")\n",
    "plt.xlabel(\"Postleitzahl\")\n",
    "plt.ylabel(\"Durchschnittspreis (€)\")\n",
    "\n",
    "# Speichern in visuals/\n",
    "plt.savefig(\"../visuals/top10_plz_preise.png\")\n",
    "plt.close()\n"
   ]
  },
  {
   "cell_type": "markdown",
   "metadata": {},
   "source": [
    "## 5.7 Teure Gegenden – Interpretation 🧠\n",
    "\n",
    "### Top 10 Postleitzahlen nach Durchschnittspreis:\n",
    "| PLZ   | Durchschnittspreis | Region / Besonderheit |\n",
    "|-------|---------------------|-----------------------|\n",
    "| **98039** | 2.160.607 €       | Medina – Luxus, Bill Gates |\n",
    "| **98004** | 1.355.927 €       | Bellevue – Tech-Elite |\n",
    "| **98040** | 1.194.230 €       | Mercer Island – Insel |\n",
    "| **98112** | 1.095.499 €       | Capitol Hill – Zentral, gehoben |\n",
    "| **98102** | 901.258 €         | Eastlake – Wasserlage |\n",
    "| **98109** | 879.624 €         | Queen Anne – Aussicht |\n",
    "| **98105** | 862.825 €         | Uni District – Altbauten |\n",
    "| **98006** | 859.684 €         | Bellevue Süd – Familien |\n",
    "| **98119** | 849.448 €         | Queen Anne Nord – Skyline |\n",
    "| **98005** | 810.165 €         | Bellevue Ost – Nähe Tech |\n",
    "\n",
    "### Erkenntnisse:\n",
    "- **Luxusgebiete wie Medina & Mercer Island führen die Liste an**.\n",
    "- **Tech-Standorte (Bellevue, Microsoft-Nähe) treiben Preise hoch**.\n",
    "- **Zentrale Lagen mit Wasser-/Skyline-Blick (Queen Anne, Eastlake) sind sehr gefragt**.\n"
   ]
  }
 ],
 "metadata": {
  "kernelspec": {
   "display_name": "base",
   "language": "python",
   "name": "python3"
  },
  "language_info": {
   "codemirror_mode": {
    "name": "ipython",
    "version": 3
   },
   "file_extension": ".py",
   "mimetype": "text/x-python",
   "name": "python",
   "nbconvert_exporter": "python",
   "pygments_lexer": "ipython3",
   "version": "3.12.2"
  }
 },
 "nbformat": 4,
 "nbformat_minor": 2
}
